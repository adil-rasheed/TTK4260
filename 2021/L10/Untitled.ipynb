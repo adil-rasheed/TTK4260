{
 "cells": [
  {
   "cell_type": "code",
   "execution_count": 34,
   "metadata": {},
   "outputs": [],
   "source": [
    "import numpy as np\n",
    "from scipy import linalg as LA\n",
    "np.set_printoptions(precision=2)\n",
    "X = np.array([\n",
    "        [0.387,4878, 5.42],\n",
    "        [0.723,12104,5.25],\n",
    "        [1,12756,5.52],\n",
    "        [1.524,6787,3.94],\n",
    "    ])"
   ]
  },
  {
   "cell_type": "code",
   "execution_count": 35,
   "metadata": {},
   "outputs": [],
   "source": [
    "X = X - np.mean(X, axis=0)"
   ]
  },
  {
   "cell_type": "markdown",
   "metadata": {},
   "source": [
    "# Eigenvalue Approach"
   ]
  },
  {
   "cell_type": "code",
   "execution_count": 47,
   "metadata": {},
   "outputs": [],
   "source": [
    "cov = np.cov(X, rowvar = False)\n",
    "evals , evecs = LA.eigh(cov)\n",
    "idx = np.argsort(evals)[::-1]\n",
    "P = evecs[:,idx]\n",
    "evals = evals[idx]\n",
    "score_eig = np.dot(X, evecs) "
   ]
  },
  {
   "cell_type": "code",
   "execution_count": 48,
   "metadata": {},
   "outputs": [
    {
     "data": {
      "text/plain": [
       "array([[-1.22e-05, -1.00e+00, -7.30e-05],\n",
       "       [-5.66e-01, -5.33e-05,  8.24e-01],\n",
       "       [ 8.24e-01, -5.14e-05,  5.66e-01]])"
      ]
     },
     "execution_count": 48,
     "metadata": {},
     "output_type": "execute_result"
    }
   ],
   "source": [
    "P.T"
   ]
  },
  {
   "cell_type": "code",
   "execution_count": 49,
   "metadata": {},
   "outputs": [
    {
     "data": {
      "text/plain": [
       "array([[ 8.38e-03,  8.41e-01,  4.25e+03],\n",
       "       [-1.82e-01,  1.26e-01, -2.97e+03],\n",
       "       [ 1.65e-01,  1.57e-01, -3.62e+03],\n",
       "       [ 8.87e-03, -1.12e+00,  2.34e+03]])"
      ]
     },
     "execution_count": 49,
     "metadata": {},
     "output_type": "execute_result"
    }
   ],
   "source": [
    "score_eig"
   ]
  },
  {
   "cell_type": "markdown",
   "metadata": {},
   "source": [
    "# SVD"
   ]
  },
  {
   "cell_type": "code",
   "execution_count": 38,
   "metadata": {},
   "outputs": [
    {
     "name": "stdout",
     "output_type": "stream",
     "text": [
      "U:\n",
      "[[-0.63  0.59 -0.03]\n",
      " [ 0.44  0.09  0.74]\n",
      " [ 0.54  0.11 -0.67]\n",
      " [-0.35 -0.79 -0.04]]\n",
      "S used for building Sigma:\n",
      "[6.75e+03 1.42e+00 2.46e-01]\n",
      "Sigma:\n",
      "[[6.75e+03 0.00e+00 0.00e+00]\n",
      " [0.00e+00 1.42e+00 0.00e+00]\n",
      " [0.00e+00 0.00e+00 2.46e-01]]\n",
      "PTrans\n",
      "[[ 1.22e-05  1.00e+00  7.30e-05]\n",
      " [-5.66e-01 -5.33e-05  8.24e-01]\n",
      " [-8.24e-01  5.14e-05 -5.66e-01]]\n",
      "Scores\n",
      "[[-4.25e+03  8.41e-01 -8.38e-03]\n",
      " [ 2.97e+03  1.26e-01  1.82e-01]\n",
      " [ 3.62e+03  1.57e-01 -1.65e-01]\n",
      " [-2.34e+03 -1.12e+00 -8.87e-03]]\n",
      "CHECK FOR SVD:\n",
      "U * Sigma * PTrans\n",
      "[[-5.22e-01 -4.25e+03  3.88e-01]\n",
      " [-1.85e-01  2.97e+03  2.17e-01]\n",
      " [ 9.15e-02  3.62e+03  4.87e-01]\n",
      " [ 6.15e-01 -2.34e+03 -1.09e+00]]\n",
      "X\n",
      "[[-5.21e-01 -4.25e+03  3.88e-01]\n",
      " [-1.85e-01  2.97e+03  2.18e-01]\n",
      " [ 9.15e-02  3.62e+03  4.87e-01]\n",
      " [ 6.16e-01 -2.34e+03 -1.09e+00]]\n"
     ]
    }
   ],
   "source": [
    "from numpy.linalg import svd \n",
    "U, S, PTrans = svd(X, full_matrices=False)\n",
    "T=np.dot(U,Sigma)\n",
    "print(\"U:\")\n",
    "print(U)\n",
    "print(\"S used for building Sigma:\")\n",
    "print(S)\n",
    "Sigma = np.diag(S)\n",
    "print(\"Sigma:\")\n",
    "print(Sigma)\n",
    "print(\"PTrans\")\n",
    "print(PTranspose)\n",
    "print(\"Scores\")\n",
    "print(T)\n",
    "print(\"CHECK FOR SVD:\")\n",
    "print(\"U * Sigma * PTrans\")\n",
    "print(np.dot(U, np.dot(Sigma, PTranspose)))\n",
    "print(\"X\")\n",
    "print(X)"
   ]
  },
  {
   "cell_type": "code",
   "execution_count": 45,
   "metadata": {},
   "outputs": [
    {
     "data": {
      "text/plain": [
       "array([4.56e+07, 2.01e+00, 6.07e-02])"
      ]
     },
     "execution_count": 45,
     "metadata": {},
     "output_type": "execute_result"
    }
   ],
   "source": [
    "S**2"
   ]
  },
  {
   "cell_type": "code",
   "execution_count": 46,
   "metadata": {},
   "outputs": [
    {
     "data": {
      "text/plain": [
       "array([1.52e+07, 6.71e-01, 2.02e-02])"
      ]
     },
     "execution_count": 46,
     "metadata": {},
     "output_type": "execute_result"
    }
   ],
   "source": [
    "evals"
   ]
  },
  {
   "cell_type": "code",
   "execution_count": null,
   "metadata": {},
   "outputs": [],
   "source": []
  }
 ],
 "metadata": {
  "kernelspec": {
   "display_name": "Python 3",
   "language": "python",
   "name": "python3"
  },
  "language_info": {
   "codemirror_mode": {
    "name": "ipython",
    "version": 3
   },
   "file_extension": ".py",
   "mimetype": "text/x-python",
   "name": "python",
   "nbconvert_exporter": "python",
   "pygments_lexer": "ipython3",
   "version": "3.7.3"
  }
 },
 "nbformat": 4,
 "nbformat_minor": 2
}
